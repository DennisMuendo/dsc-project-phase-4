{
 "cells": [
  {
   "cell_type": "markdown",
   "metadata": {},
   "source": [
    "# Energy Production Prediction\n",
    "**Authors:**\n",
    "\n",
    "1. Wyclife Orimba\n",
    "2. Elsie Ochieng\n",
    "3. Dennis Mutuku\n",
    "4. Allan Ngeiywa"
   ]
  },
  {
   "cell_type": "markdown",
   "metadata": {},
   "source": [
    "## Project Overview\n",
    "Accurately forecasting energy production is crucial for ensuring a reliable and sustainable energy supply. This project aims to develop a time series forecasting model to predict energy production using a dataset of historical energy production data, along with relevant weather, economic, and regulatory factors."
   ]
  },
  {
   "cell_type": "markdown",
   "metadata": {},
   "source": [
    "## Business Understanding\n",
    "The United States has a long and intricate history of energy production marked by technological advancements, environmental concerns, and a growing demand for reliable and sustainable energy sources.\n",
    "\n",
    "Energy production dates back to 1882 when Thomas Edison constructed Pearl Street Station, the first purpose –built power station. In the same year Edison’s power station, the world’s first hydroelectric plant, went on-line in Appleton, Wisconsin demonstrating the potential of hydropower as a renewable energy source.\n",
    "\n",
    "The nation's energy landscape has since evolved from its early reliance on hydropower and fossil fuels to embrace a diversified mix of renewable energy sources, including solar, wind, and geothermal power. This transition has been driven by environmental concerns, technological advancements, and government policies aimed at reducing greenhouse gas emissions and promoting energy independence.\n",
    "\n",
    "Currently, the US energy mix is undergoing a significant transformation, with a growing share of renewable energy and natural gas, while coal's dominance is declining. This shift reflects the nation's commitment to decarbonization and the pursuit of cleaner energy sources. However, the challenge of producing enough energy to meet the demands of an ever-growing population remains"
   ]
  },
  {
   "cell_type": "markdown",
   "metadata": {},
   "source": [
    "## Problem Statement\n",
    "The United States is the world's second-largest producer of energy, producing about 16% of the world's energy, for both consumption and exportation. Energy production, however, is not a static process; it is subject to fluctuations that can have significant economic and social consequences.\n",
    "\n",
    "In 2022 the United States was the largest consumer of energy consuming 100.41 quads according to U.S. Energy Information Administration. This means that ensuring a consistent and reliable energy supply is paramount for sustaining the nation's economic stability and meeting the needs of its population.\n",
    "\n",
    "As the U.S. transitions towards renewable energy sources, the phasing out of traditional energy sources might create a potential gap incapable of meeting the nation's energy demands. Ensuring a smooth transition necessitates a prediction model that accurately anticipates energy production, guaranteeing a balance between the declining traditional sources and the burgeoning renewable ones. Such a model becomes vital to prevent disruptions in energy supply, uphold stability, and sustainably meet the increasing energy needs during this pivotal shift in the energy landscape.\n",
    "\n",
    "## Justification of the Study\n",
    "This study focuses on creating a dependable forecasting model for energy production. Accurate predictions empower efficient management of energy demand, aid in proper resource allocation and planning in line with production trends, and reduce costs associated with energy fluctuations. By developing a robust forecasting tool, this study aims to ensure consistent production, bolstering energy security, and enabling informed decision-making.\n",
    "\n",
    "### Business Objectives\n",
    "The main objectives in this project will be:\n",
    "1.\tDevelop a robust time series forecasting model that accurately predicts energy production patterns.\n",
    "2.\tIntegrate external variables such as weather data to enhance the model's predictive capabilities.\n",
    "3.\tCreate an adaptive model that can adjust to changing conditions and evolving production patterns.\n",
    "4.\tProvide a user-friendly interface for stakeholders to access and interpret forecasted energy production data.\n",
    "5.\tContribute to cost savings, efficient resource utilization, and environmental sustainability through improved energy production forecasts.\n",
    "\n",
    "### Project Metric of Success\n",
    "Building a model with a low MSE"
   ]
  },
  {
   "cell_type": "markdown",
   "metadata": {},
   "source": [
    "### Data Understanding\n",
    "The data was sourced from the Federal Reserve Economic Data (FRED) that contains frequently updated US macro and regional economic time series at annual, quarterly, monthly, weekly, and daily frequencies. The data contains the following features:\n",
    "\n",
    " * Date: Captures monthly timestamps from January 1939 to October 2023.\n",
    " * IPG2211A2N: Values showing energy produced for each month"
   ]
  },
  {
   "cell_type": "code",
   "execution_count": 1,
   "metadata": {},
   "outputs": [],
   "source": [
    "# We start by importing all the neccesary python libraries we will use\n",
    "import numpy as np\n",
    "import scipy as sp\n",
    "import pandas as pd\n",
    "import scipy.stats as stats\n",
    "import seaborn as sns\n",
    "import matplotlib.pyplot as plt\n",
    "import math\n",
    "\n",
    "import statsmodels.api as sm\n",
    "\n",
    "import warnings\n",
    "warnings.filterwarnings('ignore')"
   ]
  },
  {
   "cell_type": "code",
   "execution_count": 2,
   "metadata": {},
   "outputs": [
    {
     "data": {
      "text/html": [
       "<div>\n",
       "<style scoped>\n",
       "    .dataframe tbody tr th:only-of-type {\n",
       "        vertical-align: middle;\n",
       "    }\n",
       "\n",
       "    .dataframe tbody tr th {\n",
       "        vertical-align: top;\n",
       "    }\n",
       "\n",
       "    .dataframe thead th {\n",
       "        text-align: right;\n",
       "    }\n",
       "</style>\n",
       "<table border=\"1\" class=\"dataframe\">\n",
       "  <thead>\n",
       "    <tr style=\"text-align: right;\">\n",
       "      <th></th>\n",
       "      <th>DATE</th>\n",
       "      <th>IPG2211A2N</th>\n",
       "    </tr>\n",
       "  </thead>\n",
       "  <tbody>\n",
       "    <tr>\n",
       "      <th>0</th>\n",
       "      <td>1939-01-01</td>\n",
       "      <td>3.3336</td>\n",
       "    </tr>\n",
       "    <tr>\n",
       "      <th>1</th>\n",
       "      <td>1939-02-01</td>\n",
       "      <td>3.3591</td>\n",
       "    </tr>\n",
       "    <tr>\n",
       "      <th>2</th>\n",
       "      <td>1939-03-01</td>\n",
       "      <td>3.4354</td>\n",
       "    </tr>\n",
       "    <tr>\n",
       "      <th>3</th>\n",
       "      <td>1939-04-01</td>\n",
       "      <td>3.4609</td>\n",
       "    </tr>\n",
       "    <tr>\n",
       "      <th>4</th>\n",
       "      <td>1939-05-01</td>\n",
       "      <td>3.4609</td>\n",
       "    </tr>\n",
       "    <tr>\n",
       "      <th>...</th>\n",
       "      <td>...</td>\n",
       "      <td>...</td>\n",
       "    </tr>\n",
       "    <tr>\n",
       "      <th>1013</th>\n",
       "      <td>2023-06-01</td>\n",
       "      <td>100.5357</td>\n",
       "    </tr>\n",
       "    <tr>\n",
       "      <th>1014</th>\n",
       "      <td>2023-07-01</td>\n",
       "      <td>116.8435</td>\n",
       "    </tr>\n",
       "    <tr>\n",
       "      <th>1015</th>\n",
       "      <td>2023-08-01</td>\n",
       "      <td>117.3385</td>\n",
       "    </tr>\n",
       "    <tr>\n",
       "      <th>1016</th>\n",
       "      <td>2023-09-01</td>\n",
       "      <td>103.5618</td>\n",
       "    </tr>\n",
       "    <tr>\n",
       "      <th>1017</th>\n",
       "      <td>2023-10-01</td>\n",
       "      <td>94.1423</td>\n",
       "    </tr>\n",
       "  </tbody>\n",
       "</table>\n",
       "<p>1018 rows × 2 columns</p>\n",
       "</div>"
      ],
      "text/plain": [
       "            DATE  IPG2211A2N\n",
       "0     1939-01-01      3.3336\n",
       "1     1939-02-01      3.3591\n",
       "2     1939-03-01      3.4354\n",
       "3     1939-04-01      3.4609\n",
       "4     1939-05-01      3.4609\n",
       "...          ...         ...\n",
       "1013  2023-06-01    100.5357\n",
       "1014  2023-07-01    116.8435\n",
       "1015  2023-08-01    117.3385\n",
       "1016  2023-09-01    103.5618\n",
       "1017  2023-10-01     94.1423\n",
       "\n",
       "[1018 rows x 2 columns]"
      ]
     },
     "execution_count": 2,
     "metadata": {},
     "output_type": "execute_result"
    }
   ],
   "source": [
    "energy_df = pd.read_csv('IPG2211A2N.csv')\n",
    "energy_df"
   ]
  },
  {
   "cell_type": "code",
   "execution_count": 3,
   "metadata": {},
   "outputs": [
    {
     "data": {
      "text/plain": [
       "Index(['DATE', 'IPG2211A2N'], dtype='object')"
      ]
     },
     "execution_count": 3,
     "metadata": {},
     "output_type": "execute_result"
    }
   ],
   "source": [
    "energy_df.columns"
   ]
  },
  {
   "cell_type": "code",
   "execution_count": 4,
   "metadata": {},
   "outputs": [
    {
     "name": "stdout",
     "output_type": "stream",
     "text": [
      "<class 'pandas.core.frame.DataFrame'>\n",
      "RangeIndex: 1018 entries, 0 to 1017\n",
      "Data columns (total 2 columns):\n",
      " #   Column      Non-Null Count  Dtype  \n",
      "---  ------      --------------  -----  \n",
      " 0   DATE        1018 non-null   object \n",
      " 1   IPG2211A2N  1018 non-null   float64\n",
      "dtypes: float64(1), object(1)\n",
      "memory usage: 16.0+ KB\n"
     ]
    }
   ],
   "source": [
    "energy_df.info()"
   ]
  },
  {
   "cell_type": "code",
   "execution_count": 5,
   "metadata": {},
   "outputs": [
    {
     "data": {
      "text/plain": [
       "(1018, 2)"
      ]
     },
     "execution_count": 5,
     "metadata": {},
     "output_type": "execute_result"
    }
   ],
   "source": [
    "energy_df.shape"
   ]
  },
  {
   "cell_type": "code",
   "execution_count": 6,
   "metadata": {},
   "outputs": [
    {
     "data": {
      "text/html": [
       "<div>\n",
       "<style scoped>\n",
       "    .dataframe tbody tr th:only-of-type {\n",
       "        vertical-align: middle;\n",
       "    }\n",
       "\n",
       "    .dataframe tbody tr th {\n",
       "        vertical-align: top;\n",
       "    }\n",
       "\n",
       "    .dataframe thead th {\n",
       "        text-align: right;\n",
       "    }\n",
       "</style>\n",
       "<table border=\"1\" class=\"dataframe\">\n",
       "  <thead>\n",
       "    <tr style=\"text-align: right;\">\n",
       "      <th></th>\n",
       "      <th>IPG2211A2N</th>\n",
       "    </tr>\n",
       "  </thead>\n",
       "  <tbody>\n",
       "    <tr>\n",
       "      <th>count</th>\n",
       "      <td>1018.000000</td>\n",
       "    </tr>\n",
       "    <tr>\n",
       "      <th>mean</th>\n",
       "      <td>56.242813</td>\n",
       "    </tr>\n",
       "    <tr>\n",
       "      <th>std</th>\n",
       "      <td>35.778253</td>\n",
       "    </tr>\n",
       "    <tr>\n",
       "      <th>min</th>\n",
       "      <td>3.333600</td>\n",
       "    </tr>\n",
       "    <tr>\n",
       "      <th>25%</th>\n",
       "      <td>20.523325</td>\n",
       "    </tr>\n",
       "    <tr>\n",
       "      <th>50%</th>\n",
       "      <td>56.524650</td>\n",
       "    </tr>\n",
       "    <tr>\n",
       "      <th>75%</th>\n",
       "      <td>89.281275</td>\n",
       "    </tr>\n",
       "    <tr>\n",
       "      <th>max</th>\n",
       "      <td>126.373300</td>\n",
       "    </tr>\n",
       "  </tbody>\n",
       "</table>\n",
       "</div>"
      ],
      "text/plain": [
       "        IPG2211A2N\n",
       "count  1018.000000\n",
       "mean     56.242813\n",
       "std      35.778253\n",
       "min       3.333600\n",
       "25%      20.523325\n",
       "50%      56.524650\n",
       "75%      89.281275\n",
       "max     126.373300"
      ]
     },
     "execution_count": 6,
     "metadata": {},
     "output_type": "execute_result"
    }
   ],
   "source": [
    "energy_df.describe()"
   ]
  },
  {
   "cell_type": "code",
   "execution_count": 7,
   "metadata": {},
   "outputs": [
    {
     "data": {
      "text/plain": [
       "DATE          0\n",
       "IPG2211A2N    0\n",
       "dtype: int64"
      ]
     },
     "execution_count": 7,
     "metadata": {},
     "output_type": "execute_result"
    }
   ],
   "source": [
    "# Check for missing values\n",
    "energy_df.isnull().sum()"
   ]
  },
  {
   "cell_type": "code",
   "execution_count": 8,
   "metadata": {},
   "outputs": [
    {
     "data": {
      "text/plain": [
       "0"
      ]
     },
     "execution_count": 8,
     "metadata": {},
     "output_type": "execute_result"
    }
   ],
   "source": [
    "# Checking for duplicates\n",
    "energy_df.duplicated().sum()"
   ]
  },
  {
   "cell_type": "code",
   "execution_count": 9,
   "metadata": {},
   "outputs": [
    {
     "data": {
      "text/html": [
       "<div>\n",
       "<style scoped>\n",
       "    .dataframe tbody tr th:only-of-type {\n",
       "        vertical-align: middle;\n",
       "    }\n",
       "\n",
       "    .dataframe tbody tr th {\n",
       "        vertical-align: top;\n",
       "    }\n",
       "\n",
       "    .dataframe thead th {\n",
       "        text-align: right;\n",
       "    }\n",
       "</style>\n",
       "<table border=\"1\" class=\"dataframe\">\n",
       "  <thead>\n",
       "    <tr style=\"text-align: right;\">\n",
       "      <th></th>\n",
       "      <th>Date</th>\n",
       "      <th>Energy_production</th>\n",
       "    </tr>\n",
       "  </thead>\n",
       "  <tbody>\n",
       "    <tr>\n",
       "      <th>0</th>\n",
       "      <td>1939-01-01</td>\n",
       "      <td>3.3336</td>\n",
       "    </tr>\n",
       "    <tr>\n",
       "      <th>1</th>\n",
       "      <td>1939-02-01</td>\n",
       "      <td>3.3591</td>\n",
       "    </tr>\n",
       "    <tr>\n",
       "      <th>2</th>\n",
       "      <td>1939-03-01</td>\n",
       "      <td>3.4354</td>\n",
       "    </tr>\n",
       "    <tr>\n",
       "      <th>3</th>\n",
       "      <td>1939-04-01</td>\n",
       "      <td>3.4609</td>\n",
       "    </tr>\n",
       "    <tr>\n",
       "      <th>4</th>\n",
       "      <td>1939-05-01</td>\n",
       "      <td>3.4609</td>\n",
       "    </tr>\n",
       "  </tbody>\n",
       "</table>\n",
       "</div>"
      ],
      "text/plain": [
       "         Date  Energy_production\n",
       "0  1939-01-01             3.3336\n",
       "1  1939-02-01             3.3591\n",
       "2  1939-03-01             3.4354\n",
       "3  1939-04-01             3.4609\n",
       "4  1939-05-01             3.4609"
      ]
     },
     "execution_count": 9,
     "metadata": {},
     "output_type": "execute_result"
    }
   ],
   "source": [
    "# Cleaning up the dataset by renaming columns\n",
    "energy_df.columns = ['Date', 'Energy_production']\n",
    "energy_df.head()"
   ]
  },
  {
   "cell_type": "code",
   "execution_count": 10,
   "metadata": {},
   "outputs": [
    {
     "data": {
      "text/html": [
       "<div>\n",
       "<style scoped>\n",
       "    .dataframe tbody tr th:only-of-type {\n",
       "        vertical-align: middle;\n",
       "    }\n",
       "\n",
       "    .dataframe tbody tr th {\n",
       "        vertical-align: top;\n",
       "    }\n",
       "\n",
       "    .dataframe thead th {\n",
       "        text-align: right;\n",
       "    }\n",
       "</style>\n",
       "<table border=\"1\" class=\"dataframe\">\n",
       "  <thead>\n",
       "    <tr style=\"text-align: right;\">\n",
       "      <th></th>\n",
       "      <th>Date</th>\n",
       "      <th>Energy_production</th>\n",
       "    </tr>\n",
       "  </thead>\n",
       "  <tbody>\n",
       "    <tr>\n",
       "      <th>0</th>\n",
       "      <td>1939-01-01</td>\n",
       "      <td>3.3336</td>\n",
       "    </tr>\n",
       "    <tr>\n",
       "      <th>1</th>\n",
       "      <td>1939-02-01</td>\n",
       "      <td>3.3591</td>\n",
       "    </tr>\n",
       "    <tr>\n",
       "      <th>2</th>\n",
       "      <td>1939-03-01</td>\n",
       "      <td>3.4354</td>\n",
       "    </tr>\n",
       "    <tr>\n",
       "      <th>3</th>\n",
       "      <td>1939-04-01</td>\n",
       "      <td>3.4609</td>\n",
       "    </tr>\n",
       "    <tr>\n",
       "      <th>4</th>\n",
       "      <td>1939-05-01</td>\n",
       "      <td>3.4609</td>\n",
       "    </tr>\n",
       "  </tbody>\n",
       "</table>\n",
       "</div>"
      ],
      "text/plain": [
       "        Date  Energy_production\n",
       "0 1939-01-01             3.3336\n",
       "1 1939-02-01             3.3591\n",
       "2 1939-03-01             3.4354\n",
       "3 1939-04-01             3.4609\n",
       "4 1939-05-01             3.4609"
      ]
     },
     "execution_count": 10,
     "metadata": {},
     "output_type": "execute_result"
    }
   ],
   "source": [
    "#Convert Date into Datetime\n",
    "energy_df['Date'] =pd.to_datetime(energy_df['Date'])\n",
    "energy_df.head()"
   ]
  },
  {
   "cell_type": "code",
   "execution_count": 11,
   "metadata": {},
   "outputs": [
    {
     "name": "stdout",
     "output_type": "stream",
     "text": [
      "<class 'pandas.core.frame.DataFrame'>\n",
      "RangeIndex: 1018 entries, 0 to 1017\n",
      "Data columns (total 2 columns):\n",
      " #   Column             Non-Null Count  Dtype         \n",
      "---  ------             --------------  -----         \n",
      " 0   Date               1018 non-null   datetime64[ns]\n",
      " 1   Energy_production  1018 non-null   float64       \n",
      "dtypes: datetime64[ns](1), float64(1)\n",
      "memory usage: 16.0 KB\n"
     ]
    }
   ],
   "source": [
    "energy_df.info()"
   ]
  },
  {
   "cell_type": "markdown",
   "metadata": {},
   "source": [
    "## Feature Engineering\n",
    "Feature engineering is an essential step in time series forecasting, as it involves transforming raw data into meaningful features that can be effectively utilized by the forecasting model. In this context, we will extract two new features from the 'Date' column: 'Year' and 'Month'. These new features will provide valuable insights into the seasonal patterns of the time series data. The 'Year' feature will enable the model to capture long-term trends and patterns that may span across multiple years. For instance, the model may identify recurring seasonal patterns or detect shifts in overall trends over time.\n",
    "\n",
    "The 'Month' feature will allow the model to capture more granular seasonal patterns within each year. By incorporating month-specific information, the model may better understand the impact of seasonal factors on the time series variable.\n",
    "By extracting these seasonal features, we aim to enhance the predictive capabilities of the time series model by providing it with additional context about the underlying temporal patterns in the data."
   ]
  },
  {
   "cell_type": "code",
   "execution_count": 12,
   "metadata": {},
   "outputs": [],
   "source": [
    "#Extract month into a new column\n",
    "energy_df['Month'] = energy_df['Date'].dt.month"
   ]
  },
  {
   "cell_type": "code",
   "execution_count": 13,
   "metadata": {},
   "outputs": [
    {
     "data": {
      "text/html": [
       "<div>\n",
       "<style scoped>\n",
       "    .dataframe tbody tr th:only-of-type {\n",
       "        vertical-align: middle;\n",
       "    }\n",
       "\n",
       "    .dataframe tbody tr th {\n",
       "        vertical-align: top;\n",
       "    }\n",
       "\n",
       "    .dataframe thead th {\n",
       "        text-align: right;\n",
       "    }\n",
       "</style>\n",
       "<table border=\"1\" class=\"dataframe\">\n",
       "  <thead>\n",
       "    <tr style=\"text-align: right;\">\n",
       "      <th></th>\n",
       "      <th>Date</th>\n",
       "      <th>Energy_production</th>\n",
       "      <th>Month</th>\n",
       "      <th>Season</th>\n",
       "    </tr>\n",
       "  </thead>\n",
       "  <tbody>\n",
       "    <tr>\n",
       "      <th>0</th>\n",
       "      <td>1939-01-01</td>\n",
       "      <td>3.3336</td>\n",
       "      <td>1</td>\n",
       "      <td>Winter</td>\n",
       "    </tr>\n",
       "    <tr>\n",
       "      <th>1</th>\n",
       "      <td>1939-02-01</td>\n",
       "      <td>3.3591</td>\n",
       "      <td>2</td>\n",
       "      <td>Winter</td>\n",
       "    </tr>\n",
       "    <tr>\n",
       "      <th>2</th>\n",
       "      <td>1939-03-01</td>\n",
       "      <td>3.4354</td>\n",
       "      <td>3</td>\n",
       "      <td>Spring</td>\n",
       "    </tr>\n",
       "    <tr>\n",
       "      <th>3</th>\n",
       "      <td>1939-04-01</td>\n",
       "      <td>3.4609</td>\n",
       "      <td>4</td>\n",
       "      <td>Spring</td>\n",
       "    </tr>\n",
       "    <tr>\n",
       "      <th>4</th>\n",
       "      <td>1939-05-01</td>\n",
       "      <td>3.4609</td>\n",
       "      <td>5</td>\n",
       "      <td>Spring</td>\n",
       "    </tr>\n",
       "  </tbody>\n",
       "</table>\n",
       "</div>"
      ],
      "text/plain": [
       "        Date  Energy_production  Month  Season\n",
       "0 1939-01-01             3.3336      1  Winter\n",
       "1 1939-02-01             3.3591      2  Winter\n",
       "2 1939-03-01             3.4354      3  Spring\n",
       "3 1939-04-01             3.4609      4  Spring\n",
       "4 1939-05-01             3.4609      5  Spring"
      ]
     },
     "execution_count": 13,
     "metadata": {},
     "output_type": "execute_result"
    }
   ],
   "source": [
    "# Create a function to map months to seasons\n",
    "def get_season(month):\n",
    "    if month in [12, 1, 2]:  # Winter: December, January, February\n",
    "        return 'Winter'\n",
    "    elif month in [3, 4, 5]:  # Spring: March, April, May\n",
    "        return 'Spring'\n",
    "    elif month in [6, 7, 8]:  # Summer: June, July, August\n",
    "        return 'Summer'\n",
    "    else:  # Fall: September, October, November\n",
    "        return 'Fall'\n",
    "# Apply the function to the 'DATE' column to create a new 'Season' column\n",
    "energy_df['Season'] = energy_df['Date'].dt.month.apply(get_season)\n",
    "energy_df.head(5)"
   ]
  },
  {
   "cell_type": "code",
   "execution_count": 15,
   "metadata": {
    "scrolled": true
   },
   "outputs": [
    {
     "data": {
      "text/html": [
       "<div>\n",
       "<style scoped>\n",
       "    .dataframe tbody tr th:only-of-type {\n",
       "        vertical-align: middle;\n",
       "    }\n",
       "\n",
       "    .dataframe tbody tr th {\n",
       "        vertical-align: top;\n",
       "    }\n",
       "\n",
       "    .dataframe thead th {\n",
       "        text-align: right;\n",
       "    }\n",
       "</style>\n",
       "<table border=\"1\" class=\"dataframe\">\n",
       "  <thead>\n",
       "    <tr style=\"text-align: right;\">\n",
       "      <th></th>\n",
       "      <th>Energy_production</th>\n",
       "      <th>Month</th>\n",
       "      <th>Season</th>\n",
       "    </tr>\n",
       "    <tr>\n",
       "      <th>Date</th>\n",
       "      <th></th>\n",
       "      <th></th>\n",
       "      <th></th>\n",
       "    </tr>\n",
       "  </thead>\n",
       "  <tbody>\n",
       "    <tr>\n",
       "      <th>1939-01-01</th>\n",
       "      <td>3.3336</td>\n",
       "      <td>1</td>\n",
       "      <td>Winter</td>\n",
       "    </tr>\n",
       "    <tr>\n",
       "      <th>1939-02-01</th>\n",
       "      <td>3.3591</td>\n",
       "      <td>2</td>\n",
       "      <td>Winter</td>\n",
       "    </tr>\n",
       "    <tr>\n",
       "      <th>1939-03-01</th>\n",
       "      <td>3.4354</td>\n",
       "      <td>3</td>\n",
       "      <td>Spring</td>\n",
       "    </tr>\n",
       "    <tr>\n",
       "      <th>1939-04-01</th>\n",
       "      <td>3.4609</td>\n",
       "      <td>4</td>\n",
       "      <td>Spring</td>\n",
       "    </tr>\n",
       "    <tr>\n",
       "      <th>1939-05-01</th>\n",
       "      <td>3.4609</td>\n",
       "      <td>5</td>\n",
       "      <td>Spring</td>\n",
       "    </tr>\n",
       "  </tbody>\n",
       "</table>\n",
       "</div>"
      ],
      "text/plain": [
       "            Energy_production  Month  Season\n",
       "Date                                        \n",
       "1939-01-01             3.3336      1  Winter\n",
       "1939-02-01             3.3591      2  Winter\n",
       "1939-03-01             3.4354      3  Spring\n",
       "1939-04-01             3.4609      4  Spring\n",
       "1939-05-01             3.4609      5  Spring"
      ]
     },
     "execution_count": 15,
     "metadata": {},
     "output_type": "execute_result"
    }
   ],
   "source": [
    "# Set Date As the index\n",
    "energy_df.set_index('Date', inplace = True)\n",
    "energy_df.head()"
   ]
  },
  {
   "cell_type": "markdown",
   "metadata": {},
   "source": [
    "## EDA"
   ]
  },
  {
   "cell_type": "code",
   "execution_count": 18,
   "metadata": {},
   "outputs": [
    {
     "data": {
      "text/html": [
       "<div>\n",
       "<style scoped>\n",
       "    .dataframe tbody tr th:only-of-type {\n",
       "        vertical-align: middle;\n",
       "    }\n",
       "\n",
       "    .dataframe tbody tr th {\n",
       "        vertical-align: top;\n",
       "    }\n",
       "\n",
       "    .dataframe thead th {\n",
       "        text-align: right;\n",
       "    }\n",
       "</style>\n",
       "<table border=\"1\" class=\"dataframe\">\n",
       "  <thead>\n",
       "    <tr style=\"text-align: right;\">\n",
       "      <th></th>\n",
       "      <th>Energy_production</th>\n",
       "      <th>Month</th>\n",
       "    </tr>\n",
       "  </thead>\n",
       "  <tbody>\n",
       "    <tr>\n",
       "      <th>count</th>\n",
       "      <td>1018.000000</td>\n",
       "      <td>1018.000000</td>\n",
       "    </tr>\n",
       "    <tr>\n",
       "      <th>mean</th>\n",
       "      <td>56.242813</td>\n",
       "      <td>6.490177</td>\n",
       "    </tr>\n",
       "    <tr>\n",
       "      <th>std</th>\n",
       "      <td>35.778253</td>\n",
       "      <td>3.449937</td>\n",
       "    </tr>\n",
       "    <tr>\n",
       "      <th>min</th>\n",
       "      <td>3.333600</td>\n",
       "      <td>1.000000</td>\n",
       "    </tr>\n",
       "    <tr>\n",
       "      <th>25%</th>\n",
       "      <td>20.523325</td>\n",
       "      <td>3.250000</td>\n",
       "    </tr>\n",
       "    <tr>\n",
       "      <th>50%</th>\n",
       "      <td>56.524650</td>\n",
       "      <td>6.000000</td>\n",
       "    </tr>\n",
       "    <tr>\n",
       "      <th>75%</th>\n",
       "      <td>89.281275</td>\n",
       "      <td>9.000000</td>\n",
       "    </tr>\n",
       "    <tr>\n",
       "      <th>max</th>\n",
       "      <td>126.373300</td>\n",
       "      <td>12.000000</td>\n",
       "    </tr>\n",
       "  </tbody>\n",
       "</table>\n",
       "</div>"
      ],
      "text/plain": [
       "       Energy_production        Month\n",
       "count        1018.000000  1018.000000\n",
       "mean           56.242813     6.490177\n",
       "std            35.778253     3.449937\n",
       "min             3.333600     1.000000\n",
       "25%            20.523325     3.250000\n",
       "50%            56.524650     6.000000\n",
       "75%            89.281275     9.000000\n",
       "max           126.373300    12.000000"
      ]
     },
     "execution_count": 18,
     "metadata": {},
     "output_type": "execute_result"
    }
   ],
   "source": [
    "# Calculate descriptive statistics\n",
    "energy_df.describe()"
   ]
  },
  {
   "cell_type": "markdown",
   "metadata": {},
   "source": [
    "The production has a wide range, with a minimum of 3.3336 units and a maximum of 126.3733 units per month through out the years. The standard deviation of 35.78 units from the mean indicates a moderate degree of variability in production levels. The 25th percentile 20.52 units and 75th percentile 89.28 units provide a narrower range of typical production levels, encompassing 50% of the observations."
   ]
  },
  {
   "cell_type": "code",
   "execution_count": 23,
   "metadata": {},
   "outputs": [
    {
     "data": {
      "image/png": "[encoded data removed]",
      "text/plain": [
       "<Figure size 576x432 with 1 Axes>"
      ]
     },
     "metadata": {
      "needs_background": "light"
     },
     "output_type": "display_data"
    }
   ],
   "source": [
    "# Create a histogram\n",
    "plt.figure(figsize=(8, 6))\n",
    "plt.hist(energy_df['Energy_production'], edgecolor='black', density=True)\n",
    "# Plot KDE\n",
    "sns.kdeplot(energy_df['Energy_production'], color='red', linewidth=4)\n",
    "# Set labels and title\n",
    "plt.xlabel('Energy_production')\n",
    "plt.ylabel('Density')\n",
    "plt.title('Distribution of Energy Production')\n",
    "plt.show()"
   ]
  },
  {
   "cell_type": "markdown",
   "metadata": {},
   "source": [
    "A visual inspection of the data indicates that it does not have a normal distribution."
   ]
  },
  {
   "cell_type": "code",
   "execution_count": 26,
   "metadata": {},
   "outputs": [
    {
     "data": {
      "image/png": "[encoded data removed]",
      "text/plain": [
       "<Figure size 864x432 with 1 Axes>"
      ]
     },
     "metadata": {},
     "output_type": "display_data"
    }
   ],
   "source": [
    "# Set the style for seaborn\n",
    "sns.set(style=\"whitegrid\")\n",
    "\n",
    "# Plotting the data\n",
    "plt.figure(figsize=(12, 6))\n",
    "sns.lineplot(x=energy_df.index, y='Energy_production', data=energy_df, label='Energy Production', color='blue')\n",
    "\n",
    "# Adding labels and title\n",
    "plt.xlabel('Date')\n",
    "plt.ylabel('Energy Production')\n",
    "plt.title('Energy Production Over Time')\n",
    "plt.legend()\n",
    "\n",
    "# Show the plot\n",
    "plt.show()"
   ]
  },
  {
   "cell_type": "markdown",
   "metadata": {},
   "source": [
    "There appears to be an overall increasing trend in the data along with some seasonal variations. Further investigation of the same is required for certainty."
   ]
  },
  {
   "cell_type": "code",
   "execution_count": 27,
   "metadata": {},
   "outputs": [
    {
     "data": {
      "image/png": "[encoded data removed]",
      "text/plain": [
       "<Figure size 1080x576 with 1 Axes>"
      ]
     },
     "metadata": {},
     "output_type": "display_data"
    }
   ],
   "source": [
    "# Create new df for production\n",
    "dfproduction = pd.DataFrame(energy_df['Energy_production'])\n",
    "\n",
    "# Use pandas grouper to group values using annual frequency\n",
    "year_groups = dfproduction['1970':'2022'].groupby(pd.Grouper(freq ='A'))\n",
    "\n",
    "# Create a new DataFrame and store yearly values in columns  \n",
    "energy_annual = pd.DataFrame() \n",
    "\n",
    "for yr, group in year_groups:\n",
    "    energy_annual[yr.year] = group.values.ravel()\n",
    "# Generate a box plot for energy_annual\n",
    "energy_annual.boxplot(figsize = (15,8))\n",
    "plt.xticks(rotation=90, fontsize=12)\n",
    "plt.show()"
   ]
  },
  {
   "cell_type": "markdown",
   "metadata": {},
   "source": [
    "## Bivarite Analysis"
   ]
  },
  {
   "cell_type": "code",
   "execution_count": 28,
   "metadata": {},
   "outputs": [
    {
     "data": {
      "image/png": "[encoded data removed]",
      "text/plain": [
       "<Figure size 720x432 with 1 Axes>"
      ]
     },
     "metadata": {},
     "output_type": "display_data"
    }
   ],
   "source": [
    "# Grouping by year and calculating the total units produced for each year\n",
    "units_produced_yearly = energy_df.groupby('Month')['Energy_production'].sum()\n",
    "\n",
    "# Creating a line graph to show the growth in units produced over the years\n",
    "plt.figure(figsize=(10, 6))\n",
    "plt.plot(units_produced_yearly.index, units_produced_yearly.values, marker='o', linestyle='-')\n",
    "\n",
    "plt.title('Energy Produced Monthly')\n",
    "plt.xlabel('Year')\n",
    "plt.ylabel('Total Energy Production')\n",
    "plt.grid(True)\n",
    "plt.tight_layout()\n",
    "\n",
    "plt.show()"
   ]
  },
  {
   "cell_type": "markdown",
   "metadata": {},
   "source": [
    "From the line graph above we noted that energy demand was lowest in April, May, October and November. Further research revealed that energy demand typically decreases during seasons with milder weather conditions such as Spring and Fall which the months in question fall under. This is because of decreased demand for heating and cooling.\n",
    "\n",
    "We noted that peak production occured in January, February, July, August and December.\n",
    "These months fall under Winter when heating demands are high and Summer when there is increased demand for air conditioning\n",
    "\n",
    "The graph below illustrates energy production by season showing Fall and Spring having lowest energy produced further highlighting Fall and Spring as periods with the lowest energy production. This reaffirms that seasons featuring milder weather conditions exhibit lower consumption, consequently resulting in reduced production"
   ]
  },
  {
   "cell_type": "code",
   "execution_count": 30,
   "metadata": {},
   "outputs": [
    {
     "data": {
      "image/png": "[encoded data removed]",
      "text/plain": [
       "<Figure size 576x432 with 1 Axes>"
      ]
     },
     "metadata": {},
     "output_type": "display_data"
    }
   ],
   "source": [
    "# Plotting the units produced by season using Seaborn\n",
    "plt.figure(figsize=(8, 6))\n",
    "sns.barplot(data=energy_df, x='Season', y='Energy_production', palette='muted')\n",
    "plt.title('Energy Produced each Season')\n",
    "plt.xlabel('Season')\n",
    "plt.ylabel('Energy Production')\n",
    "\n",
    "plt.tight_layout()\n",
    "plt.show()"
   ]
  },
  {
   "cell_type": "code",
   "execution_count": null,
   "metadata": {},
   "outputs": [],
   "source": []
  }
 ],
 "metadata": {
  "kernelspec": {
   "display_name": "Python (learn-env)",
   "language": "python",
   "name": "learn-env"
  },
  "language_info": {
   "codemirror_mode": {
    "name": "ipython",
    "version": 3
   },
   "file_extension": ".py",
   "mimetype": "text/x-python",
   "name": "python",
   "nbconvert_exporter": "python",
   "pygments_lexer": "ipython3",
   "version": "3.8.5"
  }
 },
 "nbformat": 4,
 "nbformat_minor": 4
}
